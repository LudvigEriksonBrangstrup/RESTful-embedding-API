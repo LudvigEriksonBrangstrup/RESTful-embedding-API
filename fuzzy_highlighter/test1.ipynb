{
 "cells": [
  {
   "cell_type": "code",
   "execution_count": 1,
   "metadata": {},
   "outputs": [
    {
     "name": "stdout",
     "output_type": "stream",
     "text": [
      "Requirement already satisfied: fuzzywuzzy in /Users/ludvigeriksonbrangstrup/miniconda3/lib/python3.11/site-packages (0.18.0)\n"
     ]
    }
   ],
   "source": [
    "!pip install fuzzywuzzy"
   ]
  },
  {
   "cell_type": "code",
   "execution_count": 50,
   "metadata": {},
   "outputs": [
    {
     "name": "stdout",
     "output_type": "stream",
     "text": [
      "Match score: 97\n",
      "Match found: likvärdigt förfarande enligt tillämplig nationell lag. Det är därför nödvändigt att begränsa tillämpningen av principen om likabehandling. (18) Domstolen har konsekvent hävdat att Barberprotokollet (4) inte påverkar rätten att ansluta sig till ett företags- eller yrkesbaserat pensionssystem och att begränsningen i tiden av domens rättsverkan i mål C-262/88 inte gäller i fråga om rätten att vara ansluten till ett yrkespensionssystem. Domstolen fastställde även att nationella regler om frister för väckande av talan enligt nationell rätt kan åberopas gentemot arbetstagare som gör gällande sin rätt att vara\n"
     ]
    },
    {
     "data": {
      "text/plain": [
       "'highlighted_documents/test5.pdf'"
      ]
     },
     "execution_count": 50,
     "metadata": {},
     "output_type": "execute_result"
    }
   ],
   "source": [
    "import fitz  # PyMuPDF\n",
    "import os\n",
    "from fuzzywuzzy import fuzz\n",
    "\n",
    "def fuzzy_pdf_highlighter(pdf_path, search_string):\n",
    "    \"\"\"\n",
    "    Highlights a sentence based on a fuzzy search across the entire PDF document.\n",
    "\n",
    "    Parameters:\n",
    "    pdf_path (str): The path to the PDF document.\n",
    "    search_string (str): The string to search for in the document.\n",
    "\n",
    "    Returns:\n",
    "    str: The path to the modified PDF document.\n",
    "    \"\"\"\n",
    "\n",
    "    doc = fitz.open(pdf_path)\n",
    "    output_pdf_path = \"highlighted_documents\"\n",
    "    if not os.path.exists(output_pdf_path):\n",
    "        os.makedirs(output_pdf_path)\n",
    "\n",
    "    filename = os.path.basename(pdf_path)\n",
    "    filepath = os.path.join(output_pdf_path, filename)\n",
    "\n",
    "\n",
    "    full_text = \"\"\n",
    "    for page in doc:\n",
    "        full_text += page.get_text() + \" \"\n",
    "    words = full_text.split()\n",
    "\n",
    "    search_length = len(search_string.split())\n",
    "\n",
    "    # rolling window\n",
    "    chunks = [' '.join(words[i:i+search_length]) for i in range(len(words)-search_length+1)]\n",
    "    match_score, match_chunk = max((fuzz.ratio(search_string, chunk), chunk) for chunk in chunks)\n",
    "    \n",
    "    print(\"Match score:\", match_score)\n",
    "    if match_score > 85:  # Adjust score_cutoff as needed\n",
    "        print(\"Match found:\", match_chunk)\n",
    "\n",
    "        for page in doc:\n",
    "            text_instances = page.search_for(match_chunk)\n",
    "            for inst in text_instances:\n",
    "                highlight = page.add_highlight_annot(inst)\n",
    "\n",
    "    doc.save(filepath, garbage=4, deflate=True)\n",
    "    doc.close()\n",
    "    return filepath\n",
    "\n",
    "# Example usage\n",
    "pdf_path = \"text1.PDF\"\n",
    "pdf_path = \"test5.pdf\"\n",
    "search_string = \"\"\"4ej  länder  skog78kötsefff    ln  å  allmänningsskogen  till  men  eller \n",
    "\n",
    "om\n",
    "eljest synnerliga skäl föreligga till avyttringen.\"\"\"\n",
    "\n",
    "search_string = \"\"\"Bestämmelserna i 13 och        14 §§ skall dock fortfarande tillämpas i fråga\n",
    "\n",
    "\n",
    "om mark som införlivats med-4      allmänningsskog genom förordnande som har\n",
    "\n",
    "\n",
    "\n",
    "\n",
    "meddelats före lagens ikraftträdande.\"\"\"\n",
    "\n",
    "search_string = \"\"\"förfarande enligt tillämplig nationell lag. Det är därför\n",
    "nödvändigt att begränsa tillämpningen av principen om\n",
    "likabehandling.\n",
    "(18) Domstolen har konsekvent hävdat att Barberprotokollet (4)\n",
    "inte påverkar rätten att ansluta sig till ett företags- eller\n",
    "yrkesbaserat pensi\n",
    "\n",
    "\n",
    "onssystem och att begränsningen i tiden\n",
    "av domens rättsverkan i mål C-262/88 inte gäller i fråga om\n",
    "\n",
    "rätten att vara ansluten till ett yrkespensionssystem.\n",
    "Domstolen fastställde  även att nationella regler om frister\n",
    "för väckande av     talan enligt nationell rätt kan åberopas\n",
    "gentemot arbetstagare som gör gällande sin rätt att vara\n",
    "\n",
    "\"\"\"\n",
    "\n",
    "\n",
    "fuzzy_pdf_highlighter(pdf_path, search_string)"
   ]
  },
  {
   "cell_type": "code",
   "execution_count": null,
   "metadata": {},
   "outputs": [],
   "source": []
  }
 ],
 "metadata": {
  "kernelspec": {
   "display_name": "base",
   "language": "python",
   "name": "python3"
  },
  "language_info": {
   "codemirror_mode": {
    "name": "ipython",
    "version": 3
   },
   "file_extension": ".py",
   "mimetype": "text/x-python",
   "name": "python",
   "nbconvert_exporter": "python",
   "pygments_lexer": "ipython3",
   "version": "3.11.7"
  }
 },
 "nbformat": 4,
 "nbformat_minor": 2
}
